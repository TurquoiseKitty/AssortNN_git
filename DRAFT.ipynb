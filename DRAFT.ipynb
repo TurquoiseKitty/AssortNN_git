{
 "cells": [
  {
   "cell_type": "code",
   "execution_count": 15,
   "id": "3fe6e744",
   "metadata": {},
   "outputs": [
    {
     "data": {
      "text/plain": [
       "tensor([[[ 0.0711, -1.2581, -2.2294],\n",
       "         [ 0.8114, -1.4568,  0.4071]],\n",
       "\n",
       "        [[ 0.2359,  0.4313,  0.1351],\n",
       "         [-0.5697,  0.0578,  1.4971]],\n",
       "\n",
       "        [[ 0.9583,  1.3785, -1.2567],\n",
       "         [-1.5160,  0.6019, -1.4255]],\n",
       "\n",
       "        [[-1.3029,  0.2886,  0.1156],\n",
       "         [-0.6235, -0.3993, -0.6774]],\n",
       "\n",
       "        [[ 0.7331,  0.7868,  0.9127],\n",
       "         [ 0.9560,  1.4331,  0.9037]]], grad_fn=<NativeBatchNormBackward0>)"
      ]
     },
     "execution_count": 15,
     "metadata": {},
     "output_type": "execute_result"
    }
   ],
   "source": [
    "import torch\n",
    "import torch.nn as nn\n",
    "from models import block_models\n",
    "\n",
    "inn = torch.randn((5, 2, 3))\n",
    "\n",
    "bn = nn.BatchNorm1d(2)\n",
    "\n",
    "bn(inn)"
   ]
  },
  {
   "cell_type": "code",
   "execution_count": 16,
   "id": "bc373744",
   "metadata": {},
   "outputs": [
    {
     "name": "stdout",
     "output_type": "stream",
     "text": [
      "[]\n"
     ]
    }
   ],
   "source": [
    "cha = [1]\n",
    "\n",
    "print(cha[1:])"
   ]
  },
  {
   "cell_type": "code",
   "execution_count": 10,
   "id": "18e5bc0d",
   "metadata": {},
   "outputs": [
    {
     "data": {
      "text/plain": [
       "tensor([[-0.3614, -0.8226],\n",
       "        [-0.3024, -0.9585],\n",
       "        [ 1.1052,  0.9855],\n",
       "        [ 0.0257,  2.3367],\n",
       "        [ 0.0045, -1.0837],\n",
       "        [-2.6662,  1.2738],\n",
       "        [ 0.9651,  0.6077],\n",
       "        [ 0.1596,  1.0136],\n",
       "        [ 0.2307,  0.0642],\n",
       "        [-0.0453, -0.1894]], grad_fn=<SqueezeBackward1>)"
      ]
     },
     "execution_count": 10,
     "metadata": {},
     "output_type": "execute_result"
    }
   ],
   "source": [
    "from models.block_models import FeatureEncoder\n",
    "import torch\n",
    "import torch.nn as nn\n",
    "\n",
    "seed = 1234\n",
    "\n",
    "Nprod_Veclen = 2\n",
    "\n",
    "Len_prodFeature = 3\n",
    "\n",
    "Len_customerFeature = 4\n",
    "\n",
    "torch.manual_seed(seed)\n",
    "\n",
    "data = torch.randn((10, 4+3*2))\n",
    "\n",
    "model = FeatureEncoder(\n",
    "    seed,\n",
    "    Nprod_Veclen,\n",
    "\n",
    "    prod_normalize = False,\n",
    "    Len_prodFeature = Len_prodFeature,\n",
    "    cus_normalize = False,\n",
    "    Len_customerFeature = Len_customerFeature,\n",
    "\n",
    "    Num_cusEncoder_midLayer = 0,\n",
    "    cusEncoder_midLayers = [],\n",
    "\n",
    "    Num_prodEncoder_midLayer = 1,\n",
    "    prodEncoder_midLayers = [4],\n",
    "\n",
    "    CROSS = False\n",
    ")\n",
    "\n",
    "model(data)"
   ]
  },
  {
   "cell_type": "code",
   "execution_count": 3,
   "id": "584a261d",
   "metadata": {},
   "outputs": [
    {
     "name": "stdout",
     "output_type": "stream",
     "text": [
      "[[0. 0. 0. 0. 0. 0. 0. 0. 0. 0. 0. 1. 0. 0. 0. 0. 0. 0. 0. 0.]\n",
      " [0. 1. 0. 0. 0. 0. 0. 0. 0. 0. 0. 0. 0. 0. 0. 0. 0. 0. 0. 0.]\n",
      " [0. 0. 0. 1. 0. 0. 0. 0. 0. 0. 0. 0. 0. 0. 0. 0. 0. 0. 0. 0.]\n",
      " [1. 0. 0. 0. 0. 0. 0. 0. 0. 0. 0. 0. 0. 0. 0. 0. 0. 0. 0. 0.]\n",
      " [0. 0. 0. 0. 0. 0. 0. 1. 0. 0. 0. 0. 0. 0. 0. 0. 0. 0. 0. 0.]]\n"
     ]
    }
   ],
   "source": [
    "import numpy as np\n",
    "\n",
    "SAMP = np.load(\"EXP1_datasets/MNL/NProd_20/SAMP.npy\")\n",
    "\n",
    "print(SAMP[:5])"
   ]
  },
  {
   "cell_type": "code",
   "execution_count": 5,
   "id": "76c163a8",
   "metadata": {},
   "outputs": [
    {
     "data": {
      "text/plain": [
       "tensor([ 0.0000,  0.8456,  1.4565,  0.4066, -0.9106,  1.6293, -1.3852, -1.6899,\n",
       "        -0.8531, -0.8009], grad_fn=<CatBackward0>)"
      ]
     },
     "execution_count": 5,
     "metadata": {},
     "output_type": "execute_result"
    }
   ],
   "source": [
    "import torch\n",
    "\n",
    "utils = torch.nn.Parameter(\n",
    "            torch.randn(9,requires_grad=True)\n",
    "        )\n",
    "utils = torch.cat((torch.Tensor([0]), utils),0)\n",
    "utils"
   ]
  },
  {
   "cell_type": "code",
   "execution_count": 2,
   "id": "16779a92",
   "metadata": {},
   "outputs": [
    {
     "name": "stdout",
     "output_type": "stream",
     "text": [
      "[0.01583723 0.00884238 0.04774807 0.12396453 0.00301629 0.68932549\n",
      " 1.60252876 0.67627213 0.32621064 0.90875258 0.00769454 0.00208655\n",
      " 0.00162293 0.07549914 0.10014278 0.14091648 0.02166428 0.02257717\n",
      " 0.02144915 0.20384889]\n"
     ]
    }
   ],
   "source": [
    "import numpy as np\n",
    "\n",
    "M = np.load(\"EXP1_datasets/MC/NProd_20/M.npy\")\n",
    "print(np.sum(M[5:10], axis=0))"
   ]
  },
  {
   "cell_type": "code",
   "execution_count": 4,
   "id": "340dc050",
   "metadata": {},
   "outputs": [
    {
     "name": "stdout",
     "output_type": "stream",
     "text": [
      "[1.54376617e-01 1.09706388e-01 6.85707954e-03 2.21304812e-02\n",
      " 2.22739562e-02 1.54376617e-01 8.50978012e-04 3.94264023e-02\n",
      " 1.28288536e-03 3.05809052e-03 1.54376617e-01 6.20428454e-03\n",
      " 2.85530963e-02 3.35337224e-03 9.31333522e-05 1.54376617e-01\n",
      " 4.41405486e-02 2.52680877e-03 9.17561683e-02 2.79858877e-04]\n"
     ]
    }
   ],
   "source": [
    "lam = np.load(\"EXP1_datasets/MC/NProd_20/Lam.npy\")\n",
    "print(lam)"
   ]
  },
  {
   "cell_type": "code",
   "execution_count": 4,
   "id": "778bccd6",
   "metadata": {},
   "outputs": [
    {
     "data": {
      "text/plain": [
       "2"
      ]
     },
     "execution_count": 4,
     "metadata": {},
     "output_type": "execute_result"
    }
   ],
   "source": [
    "import numpy as np\n",
    "\n",
    "np.random.choice(4)"
   ]
  },
  {
   "cell_type": "code",
   "execution_count": null,
   "id": "cc65df89",
   "metadata": {},
   "outputs": [],
   "source": []
  }
 ],
 "metadata": {
  "kernelspec": {
   "display_name": "Python 3 (ipykernel)",
   "language": "python",
   "name": "python3"
  },
  "language_info": {
   "codemirror_mode": {
    "name": "ipython",
    "version": 3
   },
   "file_extension": ".py",
   "mimetype": "text/x-python",
   "name": "python",
   "nbconvert_exporter": "python",
   "pygments_lexer": "ipython3",
   "version": "3.9.7"
  }
 },
 "nbformat": 4,
 "nbformat_minor": 5
}
